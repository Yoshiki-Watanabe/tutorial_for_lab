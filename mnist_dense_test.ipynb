{
  "nbformat": 4,
  "nbformat_minor": 0,
  "metadata": {
    "colab": {
      "name": "mnist_dense_test.ipynb",
      "version": "0.3.2",
      "views": {},
      "default_view": {},
      "provenance": []
    },
    "kernelspec": {
      "name": "python3",
      "display_name": "Python 3"
    },
    "accelerator": "GPU"
  },
  "cells": [
    {
      "metadata": {
        "id": "Fzdh9MIxt00p",
        "colab_type": "text"
      },
      "cell_type": "markdown",
      "source": [
        "## mnistを対象にした文字認識タスクにおいて\n",
        "## 全結合層のみを使ったネットワークの層の深さが識別能力に与える影響の確認\n",
        "2018.5.24 Yoshiki Watanabe"
      ]
    },
    {
      "metadata": {
        "id": "gns_eTd6oyW7",
        "colab_type": "code",
        "colab": {
          "autoexec": {
            "startup": false,
            "wait_interval": 0
          },
          "base_uri": "https://localhost:8080/",
          "height": 836
        },
        "outputId": "50e7d5ff-b569-4e74-a6c6-ac07cfec2ed3",
        "executionInfo": {
          "status": "ok",
          "timestamp": 1527140791274,
          "user_tz": -540,
          "elapsed": 55370,
          "user": {
            "displayName": "渡部ヨシキ",
            "photoUrl": "https://lh3.googleusercontent.com/a/default-user=s128",
            "userId": "109657523900193052723"
          }
        }
      },
      "cell_type": "code",
      "source": [
        "# 中間層が1層の全結合モデル\n",
        "\n",
        "\n",
        "'''Trains a simple convnet on the MNIST dataset.\n",
        "Gets to 99.25% test accuracy after 12 epochs\n",
        "(there is still a lot of margin for parameter tuning).\n",
        "16 seconds per epoch on a GRID K520 GPU.\n",
        "'''\n",
        "\n",
        "from __future__ import print_function\n",
        "import keras\n",
        "from keras.datasets import mnist\n",
        "from keras.models import Sequential\n",
        "from keras.layers import Dense, Dropout, Flatten\n",
        "from keras.layers import Conv2D, MaxPooling2D\n",
        "from keras import backend as K\n",
        "import matplotlib.pyplot as plt\n",
        "import numpy as np\n",
        "\n",
        "batch_size = 128\n",
        "num_classes = 10\n",
        "epochs = 20\n",
        "\n",
        "# input image dimensions\n",
        "img_rows, img_cols = 28, 28\n",
        "\n",
        "# the data, split between train and test sets\n",
        "(x_train, y_train), (x_test, y_test) = mnist.load_data()\n",
        "\n",
        "if K.image_data_format() == 'channels_first':\n",
        "    x_train = x_train.reshape(x_train.shape[0], 1, img_rows, img_cols)\n",
        "    x_test = x_test.reshape(x_test.shape[0], 1, img_rows, img_cols)\n",
        "    input_shape = (1, img_rows, img_cols)\n",
        "    print(input_shape)\n",
        "else:\n",
        "    x_train = x_train.reshape(x_train.shape[0], img_rows, img_cols, 1)\n",
        "    x_test = x_test.reshape(x_test.shape[0], img_rows, img_cols, 1)\n",
        "    input_shape = (img_rows, img_cols, 1)\n",
        "    print(input_shape)\n",
        "\n",
        "x_train = x_train.reshape((60000, img_cols * img_rows))\n",
        "x_test = x_test.reshape((10000, img_cols * img_rows))\n",
        "\n",
        "x_train = x_train.astype('float32')\n",
        "x_test = x_test.astype('float32')\n",
        "x_train /= 255\n",
        "x_test /= 255\n",
        "print('x_train shape:', x_train.shape)\n",
        "print(x_train.shape[0], 'train samples')\n",
        "print(x_test.shape[0], 'test samples')\n",
        "# convert class vectors to binary class matrices\n",
        "y_train = keras.utils.to_categorical(y_train, num_classes)\n",
        "y_test = keras.utils.to_categorical(y_test, num_classes)\n",
        "\n",
        "model = Sequential()\n",
        "# model.add(Dense(128, activation='relu',input_shape=(img_rows*img_cols,)))\n",
        "model.add(Dense(num_classes, activation='softmax',input_shape=(img_rows*img_cols,)))\n",
        "# model.add(Dropout(0.5))\n",
        "# model.add(Dense(num_classes, activation='softmax'))\n",
        "\n",
        "model.compile(loss=keras.losses.categorical_crossentropy,\n",
        "              optimizer=keras.optimizers.Adadelta(),\n",
        "              metrics=['accuracy'])\n",
        "\n",
        "history = model.fit(x_train, y_train,\n",
        "          batch_size=batch_size,\n",
        "          epochs=epochs,\n",
        "          verbose=1,\n",
        "          validation_data=(x_test, y_test))\n",
        "score = model.evaluate(x_test, y_test, verbose=0)\n",
        "print('Test loss:', score[0])\n",
        "print('Test accuracy:', score[1])"
      ],
      "execution_count": 25,
      "outputs": [
        {
          "output_type": "stream",
          "text": [
            "(28, 28, 1)\n",
            "x_train shape: (60000, 784)\n",
            "60000 train samples\n",
            "10000 test samples\n",
            "Train on 60000 samples, validate on 10000 samples\n",
            "Epoch 1/20\n",
            "60000/60000 [==============================] - 3s 44us/step - loss: 0.6582 - acc: 0.8369 - val_loss: 0.3661 - val_acc: 0.9023\n",
            "Epoch 2/20\n",
            "60000/60000 [==============================] - 3s 46us/step - loss: 0.3509 - acc: 0.9033 - val_loss: 0.3127 - val_acc: 0.9131\n",
            "Epoch 3/20\n",
            "60000/60000 [==============================] - 3s 45us/step - loss: 0.3160 - acc: 0.9116 - val_loss: 0.2931 - val_acc: 0.9187\n",
            "Epoch 4/20\n",
            "60000/60000 [==============================] - 3s 45us/step - loss: 0.3008 - acc: 0.9161 - val_loss: 0.2858 - val_acc: 0.9222\n",
            "Epoch 5/20\n",
            "22528/60000 [==========>...................] - ETA: 1s - loss: 0.2838 - acc: 0.9200"
          ],
          "name": "stdout"
        },
        {
          "output_type": "stream",
          "text": [
            "60000/60000 [==============================] - 3s 45us/step - loss: 0.2916 - acc: 0.9184 - val_loss: 0.2831 - val_acc: 0.9206\n",
            "Epoch 6/20\n",
            "60000/60000 [==============================] - 3s 45us/step - loss: 0.2854 - acc: 0.9205 - val_loss: 0.2773 - val_acc: 0.9239\n",
            "Epoch 7/20\n",
            "60000/60000 [==============================] - 3s 44us/step - loss: 0.2804 - acc: 0.9221 - val_loss: 0.2738 - val_acc: 0.9231\n",
            "Epoch 8/20\n",
            "60000/60000 [==============================] - 3s 44us/step - loss: 0.2767 - acc: 0.9231 - val_loss: 0.2718 - val_acc: 0.9244\n",
            "Epoch 9/20\n",
            "60000/60000 [==============================] - 3s 44us/step - loss: 0.2734 - acc: 0.9240 - val_loss: 0.2711 - val_acc: 0.9252\n",
            "Epoch 10/20\n",
            "19456/60000 [========>.....................] - ETA: 1s - loss: 0.2761 - acc: 0.9227"
          ],
          "name": "stdout"
        },
        {
          "output_type": "stream",
          "text": [
            "60000/60000 [==============================] - 3s 44us/step - loss: 0.2710 - acc: 0.9247 - val_loss: 0.2715 - val_acc: 0.9248\n",
            "Epoch 11/20\n",
            "60000/60000 [==============================] - 3s 44us/step - loss: 0.2687 - acc: 0.9260 - val_loss: 0.2690 - val_acc: 0.9254\n",
            "Epoch 12/20\n",
            "60000/60000 [==============================] - 3s 45us/step - loss: 0.2666 - acc: 0.9264 - val_loss: 0.2681 - val_acc: 0.9264\n",
            "Epoch 13/20\n",
            "60000/60000 [==============================] - 3s 44us/step - loss: 0.2645 - acc: 0.9265 - val_loss: 0.2685 - val_acc: 0.9237\n",
            "Epoch 14/20\n",
            "60000/60000 [==============================] - 3s 44us/step - loss: 0.2633 - acc: 0.9275 - val_loss: 0.2664 - val_acc: 0.9249\n",
            "Epoch 15/20\n",
            "21632/60000 [=========>....................] - ETA: 1s - loss: 0.2596 - acc: 0.9289"
          ],
          "name": "stdout"
        },
        {
          "output_type": "stream",
          "text": [
            "60000/60000 [==============================] - 3s 45us/step - loss: 0.2618 - acc: 0.9279 - val_loss: 0.2655 - val_acc: 0.9271\n",
            "Epoch 16/20\n",
            "60000/60000 [==============================] - 3s 45us/step - loss: 0.2605 - acc: 0.9279 - val_loss: 0.2652 - val_acc: 0.9271\n",
            "Epoch 17/20\n",
            "60000/60000 [==============================] - 3s 45us/step - loss: 0.2592 - acc: 0.9290 - val_loss: 0.2655 - val_acc: 0.9266\n",
            "Epoch 18/20\n",
            "60000/60000 [==============================] - 3s 44us/step - loss: 0.2583 - acc: 0.9291 - val_loss: 0.2647 - val_acc: 0.9259\n",
            "Epoch 19/20\n",
            "60000/60000 [==============================] - 3s 45us/step - loss: 0.2573 - acc: 0.9289 - val_loss: 0.2645 - val_acc: 0.9267\n",
            "Epoch 20/20\n",
            "19584/60000 [========>.....................] - ETA: 1s - loss: 0.2514 - acc: 0.9326"
          ],
          "name": "stdout"
        },
        {
          "output_type": "stream",
          "text": [
            "60000/60000 [==============================] - 3s 44us/step - loss: 0.2561 - acc: 0.9298 - val_loss: 0.2641 - val_acc: 0.9266\n",
            "Test loss: 0.26410862248390915\n",
            "Test accuracy: 0.9266\n"
          ],
          "name": "stdout"
        }
      ]
    },
    {
      "metadata": {
        "id": "UdIYbu5-rN2f",
        "colab_type": "code",
        "colab": {
          "autoexec": {
            "startup": false,
            "wait_interval": 0
          },
          "base_uri": "https://localhost:8080/",
          "height": 734
        },
        "outputId": "ef4b17db-8e5d-4270-e867-48c5a0d4cc07",
        "executionInfo": {
          "status": "ok",
          "timestamp": 1527140854574,
          "user_tz": -540,
          "elapsed": 63254,
          "user": {
            "displayName": "渡部ヨシキ",
            "photoUrl": "https://lh3.googleusercontent.com/a/default-user=s128",
            "userId": "109657523900193052723"
          }
        }
      },
      "cell_type": "code",
      "source": [
        "# 中間層が2層の全結合モデル\n",
        "\n",
        "model2 = Sequential()\n",
        "model2.add(Dense(128, activation='relu',input_shape=(img_rows*img_cols,)))\n",
        "model2.add(Dense(num_classes, activation='softmax'))\n",
        "\n",
        "model2.compile(loss=keras.losses.categorical_crossentropy,\n",
        "              optimizer=keras.optimizers.Adadelta(),\n",
        "              metrics=['accuracy'])\n",
        "\n",
        "history2 = model2.fit(x_train, y_train,\n",
        "          batch_size=batch_size,\n",
        "          epochs=epochs,\n",
        "          verbose=1,\n",
        "          validation_data=(x_test, y_test))"
      ],
      "execution_count": 26,
      "outputs": [
        {
          "output_type": "stream",
          "text": [
            "Train on 60000 samples, validate on 10000 samples\n",
            "Epoch 1/20\n",
            "60000/60000 [==============================] - 3s 57us/step - loss: 0.3586 - acc: 0.9008 - val_loss: 0.2099 - val_acc: 0.9417\n",
            "Epoch 2/20\n",
            "60000/60000 [==============================] - 3s 51us/step - loss: 0.1743 - acc: 0.9498 - val_loss: 0.1408 - val_acc: 0.9569\n",
            "Epoch 3/20\n",
            "60000/60000 [==============================] - 3s 52us/step - loss: 0.1293 - acc: 0.9623 - val_loss: 0.1239 - val_acc: 0.9624\n",
            "Epoch 4/20\n",
            "60000/60000 [==============================] - 3s 52us/step - loss: 0.1037 - acc: 0.9701 - val_loss: 0.1040 - val_acc: 0.9688\n",
            "Epoch 5/20\n",
            "29312/60000 [=============>................] - ETA: 1s - loss: 0.0846 - acc: 0.9755"
          ],
          "name": "stdout"
        },
        {
          "output_type": "stream",
          "text": [
            "60000/60000 [==============================] - 3s 53us/step - loss: 0.0862 - acc: 0.9754 - val_loss: 0.0956 - val_acc: 0.9712\n",
            "Epoch 6/20\n",
            "60000/60000 [==============================] - 3s 52us/step - loss: 0.0736 - acc: 0.9786 - val_loss: 0.0842 - val_acc: 0.9742\n",
            "Epoch 7/20\n",
            "60000/60000 [==============================] - 3s 51us/step - loss: 0.0642 - acc: 0.9816 - val_loss: 0.0833 - val_acc: 0.9741\n",
            "Epoch 8/20\n",
            "60000/60000 [==============================] - 3s 52us/step - loss: 0.0567 - acc: 0.9842 - val_loss: 0.0839 - val_acc: 0.9745\n",
            "Epoch 9/20\n",
            "60000/60000 [==============================] - 3s 52us/step - loss: 0.0503 - acc: 0.9859 - val_loss: 0.0753 - val_acc: 0.9772\n"
          ],
          "name": "stdout"
        },
        {
          "output_type": "stream",
          "text": [
            "Epoch 10/20\n",
            "60000/60000 [==============================] - 3s 52us/step - loss: 0.0442 - acc: 0.9877 - val_loss: 0.0778 - val_acc: 0.9756\n",
            "Epoch 11/20\n",
            "60000/60000 [==============================] - 3s 51us/step - loss: 0.0400 - acc: 0.9894 - val_loss: 0.0741 - val_acc: 0.9775\n",
            "Epoch 12/20\n",
            "60000/60000 [==============================] - 3s 52us/step - loss: 0.0360 - acc: 0.9901 - val_loss: 0.0700 - val_acc: 0.9771\n",
            "Epoch 13/20\n",
            "60000/60000 [==============================] - 3s 52us/step - loss: 0.0325 - acc: 0.9919 - val_loss: 0.0712 - val_acc: 0.9787\n",
            "Epoch 14/20\n",
            "50816/60000 [========================>.....] - ETA: 0s - loss: 0.0289 - acc: 0.9928"
          ],
          "name": "stdout"
        },
        {
          "output_type": "stream",
          "text": [
            "60000/60000 [==============================] - 3s 51us/step - loss: 0.0291 - acc: 0.9925 - val_loss: 0.0770 - val_acc: 0.9768\n",
            "Epoch 15/20\n",
            "60000/60000 [==============================] - 3s 52us/step - loss: 0.0262 - acc: 0.9937 - val_loss: 0.0727 - val_acc: 0.9780\n",
            "Epoch 16/20\n",
            "60000/60000 [==============================] - 3s 52us/step - loss: 0.0236 - acc: 0.9944 - val_loss: 0.0696 - val_acc: 0.9786\n",
            "Epoch 17/20\n",
            "60000/60000 [==============================] - 3s 51us/step - loss: 0.0217 - acc: 0.9952 - val_loss: 0.0676 - val_acc: 0.9796\n",
            "Epoch 18/20\n",
            "60000/60000 [==============================] - 3s 52us/step - loss: 0.0192 - acc: 0.9961 - val_loss: 0.0697 - val_acc: 0.9790\n",
            "Epoch 19/20\n",
            " 1280/60000 [..............................] - ETA: 2s - loss: 0.0126 - acc: 0.9984"
          ],
          "name": "stdout"
        },
        {
          "output_type": "stream",
          "text": [
            "60000/60000 [==============================] - 3s 51us/step - loss: 0.0173 - acc: 0.9963 - val_loss: 0.0704 - val_acc: 0.9790\n",
            "Epoch 20/20\n",
            "60000/60000 [==============================] - 3s 52us/step - loss: 0.0157 - acc: 0.9968 - val_loss: 0.0693 - val_acc: 0.9800\n"
          ],
          "name": "stdout"
        }
      ]
    },
    {
      "metadata": {
        "id": "IuLPKAD2psOm",
        "colab_type": "code",
        "colab": {
          "autoexec": {
            "startup": false,
            "wait_interval": 0
          },
          "base_uri": "https://localhost:8080/",
          "height": 376
        },
        "outputId": "1353a01d-e5dd-4d99-bb6b-c89f41114bba",
        "executionInfo": {
          "status": "ok",
          "timestamp": 1527141097203,
          "user_tz": -540,
          "elapsed": 577,
          "user": {
            "displayName": "渡部ヨシキ",
            "photoUrl": "https://lh3.googleusercontent.com/a/default-user=s128",
            "userId": "109657523900193052723"
          }
        }
      },
      "cell_type": "code",
      "source": [
        " # 層の深さが損失関数に与える影響をチェック\n",
        "  \n",
        "  plt.plot(history.history['loss'], color='#00ff00')\n",
        "  plt.plot(history.history['val_loss'], color='#0000ff')\n",
        "  plt.plot(history2.history['loss'], color='#007700')\n",
        "  plt.plot(history2.history['val_loss'], color='#000077')\n",
        "  plt.title('model loss')\n",
        "  plt.xlabel('epoch')\n",
        "  plt.ylabel('loss')\n",
        "  plt.legend(['loss of 1 hidden layer', 'var_loss of 1 hidden layer','loss of 2 hidden layer', 'var_loss of 2 hidden layer'], loc='upper right')\n",
        "  plt.show()\n",
        "\n",
        "# 学習履歴をプロット\n",
        "# plot_history(history)"
      ],
      "execution_count": 30,
      "outputs": [
        {
          "output_type": "display_data",
          "data": {
            "image/png": "[encoded data removed]",
            "text/plain": [
              "<matplotlib.figure.Figure at 0x7f06566b85c0>"
            ]
          },
          "metadata": {
            "tags": []
          }
        }
      ]
    },
    {
      "metadata": {
        "id": "lQlVV7mOsuJ_",
        "colab_type": "text"
      },
      "cell_type": "markdown",
      "source": [
        "・縦軸は損失（低いほど良いモデル）、横軸はepoch（学習回数みたいな指標）\n",
        "\n",
        "・中間層（隠れ層）の深さを変えて比較した\n",
        "\n",
        "・どちらの場合も学習が収束している\n",
        "\n",
        "・2層の場合テストセットでの損失は下がり続けているがバリデーションセットでの損失は収束している<br>→このネットワーク・最適化方法においては汎化能力の観点で収束している\n",
        "\n",
        "・accuracyは1層で93% 2層で98%程度\n",
        "\n",
        "・層が深いほうが損失が小さくなっている→モデルの表現能力の問題と考えられる\n"
      ]
    }
  ]
}